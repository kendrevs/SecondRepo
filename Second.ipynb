{
 "cells": [
  {
   "cell_type": "code",
   "execution_count": 1,
   "id": "ba31a8ae",
   "metadata": {},
   "outputs": [
    {
     "name": "stdout",
     "output_type": "stream",
     "text": [
      "the number of boys are : 1\n",
      "The number of girls are :  4\n"
     ]
    }
   ],
   "source": [
    "class School:\n",
    "    def __init__(self,boys,girls):\n",
    "        self.boys=boys\n",
    "        self.girls=girls\n",
    " \n",
    "obj=School(1,4)\n",
    "print(\"the number of boys are :\",obj.boys)\n",
    "print(\"The number of girls are : \",obj.girls)"
   ]
  },
  {
   "cell_type": "code",
   "execution_count": null,
   "id": "ff335534",
   "metadata": {},
   "outputs": [],
   "source": []
  }
 ],
 "metadata": {
  "kernelspec": {
   "display_name": "Python 3 (ipykernel)",
   "language": "python",
   "name": "python3"
  },
  "language_info": {
   "codemirror_mode": {
    "name": "ipython",
    "version": 3
   },
   "file_extension": ".py",
   "mimetype": "text/x-python",
   "name": "python",
   "nbconvert_exporter": "python",
   "pygments_lexer": "ipython3",
   "version": "3.9.7"
  }
 },
 "nbformat": 4,
 "nbformat_minor": 5
}
